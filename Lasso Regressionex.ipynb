{
 "cells": [
  {
   "cell_type": "code",
   "execution_count": null,
   "metadata": {},
   "outputs": [],
   "source": [
    "#Lasso Regression for Research Work"
   ]
  },
  {
   "cell_type": "code",
   "execution_count": null,
   "metadata": {},
   "outputs": [],
   "source": [
    "import numpy as np\n",
    "import pandas as pd\n",
    "from sklearn.linear_model import Lasso\n",
    "from sklearn import model_selection\n",
    "%matplotlib inline \n",
    "import matplotlib.pyplot as plt\n",
    "\n",
    "class Linear_Regression():\n",
    "    def __init__(self):\n",
    "        self.split = [2,3,4,5,10]\n",
    "        \n",
    "    def dataset_split(self):\n",
    "        df = pd.read_csv(\"airfoil-self-noise.csv\")\n",
    "        X = df[['Frequency', 'Angle_of_attack', 'Chord_length', 'Free_stream_velocity', 'Suction_side' ]][:].values.reshape(1503, 5)\n",
    "        y = df[['sound_pressure_level']][:].values.reshape(1503, 1)\n",
    "        return X,y\n",
    "    \n",
    "    def model_creation(self, X, y):\n",
    "        acc = []\n",
    "        for j in self.split:\n",
    "            kfold = model_selection.KFold(n_splits=j)\n",
    "            model = Lasso()\n",
    "            results = model_selection.cross_val_score(model, X, y, cv=kfold)\n",
    "            accuracy_score = results.mean()\n",
    "            acc.append(accuracy_score)\n",
    "        return acc\n",
    "    \n",
    "    def graph(self, acc_score):\n",
    "        \n",
    "        plt.plot(self.split, acc_score)\n",
    "        plt.title(\"Lasso Regression \\n Variations in Accuracy \\n with K-Fold Splits\", pad=20)\n",
    "        plt.ylabel(\"Accuracy\", fontsize = \"large\")\n",
    "        plt.xlabel('K-Fold Splits', fontsize = \"large\")\n",
    "        plt.legend([\"Lasso Model\"], loc='lower right')\n",
    "        plt.show()\n",
    "\n",
    "    \n",
    "linear = Linear_Regression()\n",
    "X,y = linear.dataset_split()\n",
    "accuracy = linear.model_creation(X,y)\n",
    "print(\"Accuracy wrt K-fold\", accuracy)\n",
    "\n",
    "linear.graph(accuracy)"
   ]
  }
 ],
 "metadata": {
  "kernelspec": {
   "display_name": "Python 3",
   "language": "python",
   "name": "python3"
  },
  "language_info": {
   "codemirror_mode": {
    "name": "ipython",
    "version": 3
   },
   "file_extension": ".py",
   "mimetype": "text/x-python",
   "name": "python",
   "nbconvert_exporter": "python",
   "pygments_lexer": "ipython3",
   "version": "3.7.6"
  }
 },
 "nbformat": 4,
 "nbformat_minor": 4
}
